{
 "cells": [
  {
   "cell_type": "code",
   "execution_count": 1,
   "metadata": {
    "collapsed": true,
    "ExecuteTime": {
     "end_time": "2023-08-26T10:55:24.057369100Z",
     "start_time": "2023-08-26T10:55:23.882370900Z"
    }
   },
   "outputs": [],
   "source": [
    "import scipy"
   ]
  },
  {
   "cell_type": "code",
   "execution_count": 20,
   "outputs": [
    {
     "data": {
      "text/plain": "0\n34     2075\n35     2253\n36     2052\n37     8700\n38      381\n39       42\n40      243\n41     5843\n44       91\n45    79779\ndtype: int64"
     },
     "execution_count": 20,
     "metadata": {},
     "output_type": "execute_result"
    }
   ],
   "source": [
    "# import numpy as np\n",
    "#\n",
    "# file_path = \"offline_data/20M/mahjong-offline-data-batch-0.mat\"\n",
    "# raw_data = scipy.io.loadmat(file_path)\n",
    "# action_array = np.reshape(raw_data['A'], -1)\n",
    "# action_data = raw_data['A'].T\n",
    "# obs_data = raw_data['X']\n",
    "# mask = np.bitwise_and(action_array >= 34, action_array <= 45)\n",
    "# mask = np.bitwise_and(mask, action_array != 42)\n",
    "# mask = np.bitwise_and(mask, action_array != 43)\n",
    "# obs_data_masked = obs_data[mask]\n",
    "# action_data_masked = action_data[mask]\n",
    "#\n",
    "# import pandas as pd\n",
    "#\n",
    "# pd.DataFrame(action_data_masked).groupby(0).value_counts()"
   ],
   "metadata": {
    "collapsed": false,
    "ExecuteTime": {
     "end_time": "2023-08-26T11:34:23.777057400Z",
     "start_time": "2023-08-26T11:34:20.723508Z"
    }
   }
  },
  {
   "cell_type": "code",
   "execution_count": 2,
   "outputs": [],
   "source": [
    "from torch.utils.data import Dataset, DataLoader\n",
    "import numpy as np\n",
    "from torch import tensor\n",
    "import torch\n",
    "\n",
    "\n",
    "class PongDataset(Dataset):\n",
    "    def __init__(self, root_path='offline_data/20M', index=0, oracle=False):\n",
    "        file_path = f\"{root_path}/mahjong-offline-data-batch-{index}.mat\"\n",
    "        raw_data = scipy.io.loadmat(file_path)\n",
    "        action_array = np.reshape(raw_data['A'], -1)\n",
    "        action_data = raw_data['A'].T\n",
    "        if oracle:\n",
    "            obs_data = np.concatenate([raw_data['X'], raw_data['O']], axis=1)\n",
    "        else:\n",
    "            obs_data = raw_data['X']\n",
    "        # 37 碰 | 45 不响应\n",
    "        # 样本不平衡\n",
    "        pong_mask = np.bitwise_or(action_array == 37, action_array == 45)\n",
    "        self.obs_data_masked = obs_data[pong_mask]\n",
    "        self.action_data_masked = np.where(action_data[pong_mask] == 37, 1, 0)\n",
    "\n",
    "    def __len__(self):\n",
    "        return len(self.action_data_masked)\n",
    "\n",
    "    def __getitem__(self, idx):\n",
    "        return tensor(self.obs_data_masked[idx], dtype=torch.float), tensor(self.action_data_masked[idx],\n",
    "                                                                            dtype=torch.float)"
   ],
   "metadata": {
    "collapsed": false,
    "ExecuteTime": {
     "end_time": "2023-08-26T10:55:34.761533Z",
     "start_time": "2023-08-26T10:55:32.817370900Z"
    }
   }
  },
  {
   "cell_type": "code",
   "execution_count": 3,
   "outputs": [],
   "source": [
    "pong_dataset_valid = PongDataset(index=39)"
   ],
   "metadata": {
    "collapsed": false,
    "ExecuteTime": {
     "end_time": "2023-08-26T10:55:38.407784600Z",
     "start_time": "2023-08-26T10:55:35.595739800Z"
    }
   }
  },
  {
   "cell_type": "code",
   "execution_count": 4,
   "outputs": [],
   "source": [
    "from torch import nn\n",
    "\n",
    "\n",
    "class PongModel(nn.Module):\n",
    "    def __init__(self, in_channels=93):\n",
    "        super().__init__()\n",
    "        self.input_layer = nn.Sequential(nn.Conv1d(in_channels, 256, 3, padding=1),\n",
    "                                         nn.ReLU())\n",
    "\n",
    "        self.hidden_layer = nn.Sequential(nn.Conv1d(256, 256, 3, padding=1),\n",
    "                                          nn.ReLU(),\n",
    "                                          nn.Conv1d(256, 32, 3, padding=1),\n",
    "                                          nn.ReLU(),\n",
    "                                          nn.Flatten(),\n",
    "                                          nn.Linear(32 * 34, 1024),\n",
    "                                          nn.ReLU(),\n",
    "                                          nn.Linear(1024, 256),\n",
    "                                          nn.ReLU()\n",
    "                                          )\n",
    "\n",
    "        self.output_layer = nn.Sequential(nn.Linear(256, 1),\n",
    "                                          nn.Sigmoid())\n",
    "\n",
    "    def forward(self, obs):\n",
    "        return self.output_layer(self.hidden_layer(self.input_layer(obs)))"
   ],
   "metadata": {
    "collapsed": false,
    "ExecuteTime": {
     "end_time": "2023-08-26T10:55:38.890933500Z",
     "start_time": "2023-08-26T10:55:38.870197200Z"
    }
   }
  },
  {
   "cell_type": "code",
   "execution_count": 5,
   "outputs": [],
   "source": [
    "pong_model = PongModel()"
   ],
   "metadata": {
    "collapsed": false,
    "ExecuteTime": {
     "end_time": "2023-08-26T10:55:40.767573800Z",
     "start_time": "2023-08-26T10:55:40.741773900Z"
    }
   }
  },
  {
   "cell_type": "code",
   "execution_count": 6,
   "outputs": [],
   "source": [
    "def train(model: nn.Module, train_dataset: Dataset, test_dataset: Dataset, loss_fn: nn.Module,\n",
    "          optimizer: torch.optim.Optimizer,\n",
    "          epoch: int = 1, train_batch_size=10, eval_interval=1000):\n",
    "    for e in range(epoch):\n",
    "        dataloader = DataLoader(train_dataset, batch_size=train_batch_size, shuffle=True)\n",
    "        for iter_time, (obs, target_action) in enumerate(dataloader):\n",
    "            model.train()\n",
    "            action = model(obs)\n",
    "            loss = loss_fn(action, target_action)\n",
    "\n",
    "            optimizer.zero_grad()\n",
    "            loss.backward()\n",
    "            optimizer.step()\n",
    "\n",
    "            if iter_time % eval_interval == 0:\n",
    "                evaluate(model, train_dataset, test_dataset, loss_fn, f\"# epoch_{e}_iter_{iter_time} #\")"
   ],
   "metadata": {
    "collapsed": false,
    "ExecuteTime": {
     "end_time": "2023-08-26T10:55:42.484216700Z",
     "start_time": "2023-08-26T10:55:42.460887600Z"
    }
   }
  },
  {
   "cell_type": "code",
   "execution_count": 7,
   "outputs": [],
   "source": [
    "def evaluate(model: nn.Module, train_dataset: Dataset, test_dataset: Dataset, loss_fn: nn.Module, log_title=\"\",\n",
    "             test_batch_size=10):\n",
    "    model.eval()\n",
    "    train_dataloader = DataLoader(train_dataset, batch_size=test_batch_size, shuffle=True)\n",
    "    test_dataloader = DataLoader(test_dataset, batch_size=test_batch_size, shuffle=True)\n",
    "    train_total_loss = []\n",
    "    test_total_loss = []\n",
    "\n",
    "    train_accuracy_total = 0\n",
    "    train_accuracy = 0\n",
    "    train_precision_total = 0\n",
    "    train_precision = 0\n",
    "    train_recall_total = 0\n",
    "    train_recall = 0\n",
    "\n",
    "    test_accuracy_total = 0\n",
    "    test_accuracy = 0\n",
    "    test_precision_total = 0\n",
    "    test_precision = 0\n",
    "    test_recall_total = 0\n",
    "    test_recall = 0\n",
    "\n",
    "    for obs, target_action in train_dataloader:\n",
    "        action = model(obs)\n",
    "        loss = loss_fn(action, target_action)\n",
    "        train_total_loss.append(loss.item())\n",
    "\n",
    "        action_bool = np.where(action > 0.5, True, False)\n",
    "        target_action_bool = np.where(target_action > 0.5, True, False)\n",
    "\n",
    "        train_accuracy_total += len(action_bool)\n",
    "        train_accuracy += np.sum(action_bool == target_action_bool)\n",
    "        train_precision_total += np.sum(action_bool)\n",
    "        train_precision += np.sum(target_action_bool[action_bool])\n",
    "        train_recall_total += np.sum(target_action_bool)\n",
    "        train_recall += np.sum(action_bool[target_action_bool])\n",
    "\n",
    "    for obs, target_action in test_dataloader:\n",
    "        action = model(obs)\n",
    "        loss = loss_fn(action, target_action)\n",
    "        test_total_loss.append(loss.item())\n",
    "\n",
    "        action_bool = np.where(action > 0.5, True, False)\n",
    "        target_action_bool = np.where(target_action > 0.5, True, False)\n",
    "\n",
    "        test_accuracy_total += len(action_bool)\n",
    "        test_accuracy += np.sum(action_bool == target_action_bool)\n",
    "        test_precision_total += np.sum(action_bool)\n",
    "        test_precision += np.sum(target_action_bool[action_bool])\n",
    "        test_recall_total += np.sum(target_action_bool)\n",
    "        test_recall += np.sum(action_bool[target_action_bool])\n",
    "\n",
    "    print(f\"{log_title}\\n\"\n",
    "          f\"Train Loss: {np.mean(train_total_loss)} | Test Loss: {np.mean(test_total_loss)}\\n\"\n",
    "          f\"Train Accuracy: {train_accuracy / train_accuracy_total} | Test Accuracy: {test_accuracy / test_accuracy_total}\\n\"\n",
    "          f\"Train Precision: {train_precision / train_precision_total} | Test Precision: {test_precision / test_precision_total}\\n\"\n",
    "          f\"Train Recall: {train_recall / train_recall_total} | Test Recall: {test_recall / test_recall_total}\"\n",
    "          )"
   ],
   "metadata": {
    "collapsed": false,
    "ExecuteTime": {
     "end_time": "2023-08-26T10:55:44.467156200Z",
     "start_time": "2023-08-26T10:55:44.459101200Z"
    }
   }
  },
  {
   "cell_type": "code",
   "execution_count": 8,
   "outputs": [
    {
     "name": "stdout",
     "output_type": "stream",
     "text": [
      "# epoch_0_iter_0 #\n",
      "Train Loss: 0.2494403034613668 | Test Loss: 0.2494404250708395\n",
      "Train Accuracy: 0.8492297607341855 | Test Accuracy: 0.8483759424068931\n",
      "Train Precision: 0.19148936170212766 | Test Precision: 0.1938509640437728\n",
      "Train Recall: 0.16551724137931034 | Test Recall: 0.17154715240949966\n"
     ]
    },
    {
     "name": "stderr",
     "output_type": "stream",
     "text": [
      "C:\\Users\\23518\\AppData\\Local\\Temp\\ipykernel_22440\\4241091802.py:56: RuntimeWarning: invalid value encountered in long_scalars\n",
      "  f\"Train Precision: {train_precision / train_precision_total} | Test Precision: {test_precision / test_precision_total}\\n\"\n"
     ]
    },
    {
     "name": "stdout",
     "output_type": "stream",
     "text": [
      "# epoch_0_iter_1000 #\n",
      "Train Loss: 0.09832981898690192 | Test Loss: 0.09835619731120898\n",
      "Train Accuracy: 0.9016715830875123 | Test Accuracy: 0.9016609035768948\n",
      "Train Precision: nan | Test Precision: nan\n",
      "Train Recall: 0.0 | Test Recall: 0.0\n",
      "# epoch_0_iter_2000 #\n",
      "Train Loss: 0.09832730745916907 | Test Loss: 0.0983335241538545\n",
      "Train Accuracy: 0.9016715830875123 | Test Accuracy: 0.9016609035768948\n",
      "Train Precision: nan | Test Precision: nan\n",
      "Train Recall: 0.0 | Test Recall: 0.0\n",
      "# epoch_0_iter_3000 #\n",
      "Train Loss: 0.09832856324492915 | Test Loss: 0.09834486073126478\n",
      "Train Accuracy: 0.9016715830875123 | Test Accuracy: 0.9016609035768948\n",
      "Train Precision: nan | Test Precision: nan\n",
      "Train Recall: 0.0 | Test Recall: 0.0\n",
      "# epoch_0_iter_4000 #\n",
      "Train Loss: 0.09833107480466043 | Test Loss: 0.09834486072619693\n",
      "Train Accuracy: 0.9016715830875123 | Test Accuracy: 0.9016609035768948\n",
      "Train Precision: nan | Test Precision: nan\n",
      "Train Recall: 0.0 | Test Recall: 0.0\n",
      "# epoch_0_iter_5000 #\n",
      "Train Loss: 0.09832856325671804 | Test Loss: 0.09833352415892235\n",
      "Train Accuracy: 0.9016715830875123 | Test Accuracy: 0.9016609035768948\n",
      "Train Precision: nan | Test Precision: nan\n",
      "Train Recall: 0.0 | Test Recall: 0.0\n"
     ]
    },
    {
     "ename": "KeyboardInterrupt",
     "evalue": "",
     "output_type": "error",
     "traceback": [
      "\u001B[1;31m---------------------------------------------------------------------------\u001B[0m",
      "\u001B[1;31mKeyboardInterrupt\u001B[0m                         Traceback (most recent call last)",
      "Cell \u001B[1;32mIn[8], line 6\u001B[0m\n\u001B[0;32m      3\u001B[0m adam_optimizer \u001B[38;5;241m=\u001B[39m Adam(pong_model\u001B[38;5;241m.\u001B[39mparameters(), lr\u001B[38;5;241m=\u001B[39m\u001B[38;5;241m0.0005\u001B[39m)\n\u001B[0;32m      5\u001B[0m \u001B[38;5;28;01mfor\u001B[39;00m i \u001B[38;5;129;01min\u001B[39;00m \u001B[38;5;28mrange\u001B[39m(\u001B[38;5;241m39\u001B[39m):\n\u001B[1;32m----> 6\u001B[0m     \u001B[43mtrain\u001B[49m\u001B[43m(\u001B[49m\u001B[43mpong_model\u001B[49m\u001B[43m,\u001B[49m\u001B[43m \u001B[49m\u001B[43mPongDataset\u001B[49m\u001B[43m(\u001B[49m\u001B[43mindex\u001B[49m\u001B[38;5;241;43m=\u001B[39;49m\u001B[43mi\u001B[49m\u001B[43m)\u001B[49m\u001B[43m,\u001B[49m\u001B[43m \u001B[49m\u001B[43mpong_dataset_valid\u001B[49m\u001B[43m,\u001B[49m\u001B[43m \u001B[49m\u001B[43mnn\u001B[49m\u001B[38;5;241;43m.\u001B[39;49m\u001B[43mMSELoss\u001B[49m\u001B[43m(\u001B[49m\u001B[43m)\u001B[49m\u001B[43m,\u001B[49m\u001B[43m \u001B[49m\u001B[43madam_optimizer\u001B[49m\u001B[43m,\u001B[49m\u001B[43m \u001B[49m\u001B[43mepoch\u001B[49m\u001B[38;5;241;43m=\u001B[39;49m\u001B[38;5;241;43m1\u001B[39;49m\u001B[43m)\u001B[49m\n",
      "Cell \u001B[1;32mIn[6], line 16\u001B[0m, in \u001B[0;36mtrain\u001B[1;34m(model, train_dataset, test_dataset, loss_fn, optimizer, epoch, train_batch_size, eval_interval)\u001B[0m\n\u001B[0;32m     13\u001B[0m optimizer\u001B[38;5;241m.\u001B[39mstep()\n\u001B[0;32m     15\u001B[0m \u001B[38;5;28;01mif\u001B[39;00m iter_time \u001B[38;5;241m%\u001B[39m eval_interval \u001B[38;5;241m==\u001B[39m \u001B[38;5;241m0\u001B[39m:\n\u001B[1;32m---> 16\u001B[0m     \u001B[43mevaluate\u001B[49m\u001B[43m(\u001B[49m\u001B[43mmodel\u001B[49m\u001B[43m,\u001B[49m\u001B[43m \u001B[49m\u001B[43mtrain_dataset\u001B[49m\u001B[43m,\u001B[49m\u001B[43m \u001B[49m\u001B[43mtest_dataset\u001B[49m\u001B[43m,\u001B[49m\u001B[43m \u001B[49m\u001B[43mloss_fn\u001B[49m\u001B[43m,\u001B[49m\u001B[43m \u001B[49m\u001B[38;5;124;43mf\u001B[39;49m\u001B[38;5;124;43m\"\u001B[39;49m\u001B[38;5;124;43m# epoch_\u001B[39;49m\u001B[38;5;132;43;01m{\u001B[39;49;00m\u001B[43me\u001B[49m\u001B[38;5;132;43;01m}\u001B[39;49;00m\u001B[38;5;124;43m_iter_\u001B[39;49m\u001B[38;5;132;43;01m{\u001B[39;49;00m\u001B[43miter_time\u001B[49m\u001B[38;5;132;43;01m}\u001B[39;49;00m\u001B[38;5;124;43m #\u001B[39;49m\u001B[38;5;124;43m\"\u001B[39;49m\u001B[43m)\u001B[49m\n",
      "Cell \u001B[1;32mIn[7], line 39\u001B[0m, in \u001B[0;36mevaluate\u001B[1;34m(model, train_dataset, test_dataset, loss_fn, log_title, test_batch_size)\u001B[0m\n\u001B[0;32m     36\u001B[0m     train_recall \u001B[38;5;241m+\u001B[39m\u001B[38;5;241m=\u001B[39m np\u001B[38;5;241m.\u001B[39msum(action_bool[target_action_bool])\n\u001B[0;32m     38\u001B[0m \u001B[38;5;28;01mfor\u001B[39;00m obs, target_action \u001B[38;5;129;01min\u001B[39;00m test_dataloader:\n\u001B[1;32m---> 39\u001B[0m     action \u001B[38;5;241m=\u001B[39m \u001B[43mmodel\u001B[49m\u001B[43m(\u001B[49m\u001B[43mobs\u001B[49m\u001B[43m)\u001B[49m\n\u001B[0;32m     40\u001B[0m     loss \u001B[38;5;241m=\u001B[39m loss_fn(action, target_action)\n\u001B[0;32m     41\u001B[0m     test_total_loss\u001B[38;5;241m.\u001B[39mappend(loss\u001B[38;5;241m.\u001B[39mitem())\n",
      "File \u001B[1;32m~\\miniconda3\\envs\\sumo\\lib\\site-packages\\torch\\nn\\modules\\module.py:1501\u001B[0m, in \u001B[0;36mModule._call_impl\u001B[1;34m(self, *args, **kwargs)\u001B[0m\n\u001B[0;32m   1496\u001B[0m \u001B[38;5;66;03m# If we don't have any hooks, we want to skip the rest of the logic in\u001B[39;00m\n\u001B[0;32m   1497\u001B[0m \u001B[38;5;66;03m# this function, and just call forward.\u001B[39;00m\n\u001B[0;32m   1498\u001B[0m \u001B[38;5;28;01mif\u001B[39;00m \u001B[38;5;129;01mnot\u001B[39;00m (\u001B[38;5;28mself\u001B[39m\u001B[38;5;241m.\u001B[39m_backward_hooks \u001B[38;5;129;01mor\u001B[39;00m \u001B[38;5;28mself\u001B[39m\u001B[38;5;241m.\u001B[39m_backward_pre_hooks \u001B[38;5;129;01mor\u001B[39;00m \u001B[38;5;28mself\u001B[39m\u001B[38;5;241m.\u001B[39m_forward_hooks \u001B[38;5;129;01mor\u001B[39;00m \u001B[38;5;28mself\u001B[39m\u001B[38;5;241m.\u001B[39m_forward_pre_hooks\n\u001B[0;32m   1499\u001B[0m         \u001B[38;5;129;01mor\u001B[39;00m _global_backward_pre_hooks \u001B[38;5;129;01mor\u001B[39;00m _global_backward_hooks\n\u001B[0;32m   1500\u001B[0m         \u001B[38;5;129;01mor\u001B[39;00m _global_forward_hooks \u001B[38;5;129;01mor\u001B[39;00m _global_forward_pre_hooks):\n\u001B[1;32m-> 1501\u001B[0m     \u001B[38;5;28;01mreturn\u001B[39;00m forward_call(\u001B[38;5;241m*\u001B[39margs, \u001B[38;5;241m*\u001B[39m\u001B[38;5;241m*\u001B[39mkwargs)\n\u001B[0;32m   1502\u001B[0m \u001B[38;5;66;03m# Do not call functions when jit is used\u001B[39;00m\n\u001B[0;32m   1503\u001B[0m full_backward_hooks, non_full_backward_hooks \u001B[38;5;241m=\u001B[39m [], []\n",
      "Cell \u001B[1;32mIn[4], line 25\u001B[0m, in \u001B[0;36mPongModel.forward\u001B[1;34m(self, obs)\u001B[0m\n\u001B[0;32m     24\u001B[0m \u001B[38;5;28;01mdef\u001B[39;00m \u001B[38;5;21mforward\u001B[39m(\u001B[38;5;28mself\u001B[39m, obs):\n\u001B[1;32m---> 25\u001B[0m     \u001B[38;5;28;01mreturn\u001B[39;00m \u001B[38;5;28mself\u001B[39m\u001B[38;5;241m.\u001B[39moutput_layer(\u001B[38;5;28;43mself\u001B[39;49m\u001B[38;5;241;43m.\u001B[39;49m\u001B[43mhidden_layer\u001B[49m\u001B[43m(\u001B[49m\u001B[38;5;28;43mself\u001B[39;49m\u001B[38;5;241;43m.\u001B[39;49m\u001B[43minput_layer\u001B[49m\u001B[43m(\u001B[49m\u001B[43mobs\u001B[49m\u001B[43m)\u001B[49m\u001B[43m)\u001B[49m)\n",
      "File \u001B[1;32m~\\miniconda3\\envs\\sumo\\lib\\site-packages\\torch\\nn\\modules\\module.py:1501\u001B[0m, in \u001B[0;36mModule._call_impl\u001B[1;34m(self, *args, **kwargs)\u001B[0m\n\u001B[0;32m   1496\u001B[0m \u001B[38;5;66;03m# If we don't have any hooks, we want to skip the rest of the logic in\u001B[39;00m\n\u001B[0;32m   1497\u001B[0m \u001B[38;5;66;03m# this function, and just call forward.\u001B[39;00m\n\u001B[0;32m   1498\u001B[0m \u001B[38;5;28;01mif\u001B[39;00m \u001B[38;5;129;01mnot\u001B[39;00m (\u001B[38;5;28mself\u001B[39m\u001B[38;5;241m.\u001B[39m_backward_hooks \u001B[38;5;129;01mor\u001B[39;00m \u001B[38;5;28mself\u001B[39m\u001B[38;5;241m.\u001B[39m_backward_pre_hooks \u001B[38;5;129;01mor\u001B[39;00m \u001B[38;5;28mself\u001B[39m\u001B[38;5;241m.\u001B[39m_forward_hooks \u001B[38;5;129;01mor\u001B[39;00m \u001B[38;5;28mself\u001B[39m\u001B[38;5;241m.\u001B[39m_forward_pre_hooks\n\u001B[0;32m   1499\u001B[0m         \u001B[38;5;129;01mor\u001B[39;00m _global_backward_pre_hooks \u001B[38;5;129;01mor\u001B[39;00m _global_backward_hooks\n\u001B[0;32m   1500\u001B[0m         \u001B[38;5;129;01mor\u001B[39;00m _global_forward_hooks \u001B[38;5;129;01mor\u001B[39;00m _global_forward_pre_hooks):\n\u001B[1;32m-> 1501\u001B[0m     \u001B[38;5;28;01mreturn\u001B[39;00m forward_call(\u001B[38;5;241m*\u001B[39margs, \u001B[38;5;241m*\u001B[39m\u001B[38;5;241m*\u001B[39mkwargs)\n\u001B[0;32m   1502\u001B[0m \u001B[38;5;66;03m# Do not call functions when jit is used\u001B[39;00m\n\u001B[0;32m   1503\u001B[0m full_backward_hooks, non_full_backward_hooks \u001B[38;5;241m=\u001B[39m [], []\n",
      "File \u001B[1;32m~\\miniconda3\\envs\\sumo\\lib\\site-packages\\torch\\nn\\modules\\container.py:217\u001B[0m, in \u001B[0;36mSequential.forward\u001B[1;34m(self, input)\u001B[0m\n\u001B[0;32m    215\u001B[0m \u001B[38;5;28;01mdef\u001B[39;00m \u001B[38;5;21mforward\u001B[39m(\u001B[38;5;28mself\u001B[39m, \u001B[38;5;28minput\u001B[39m):\n\u001B[0;32m    216\u001B[0m     \u001B[38;5;28;01mfor\u001B[39;00m module \u001B[38;5;129;01min\u001B[39;00m \u001B[38;5;28mself\u001B[39m:\n\u001B[1;32m--> 217\u001B[0m         \u001B[38;5;28minput\u001B[39m \u001B[38;5;241m=\u001B[39m \u001B[43mmodule\u001B[49m\u001B[43m(\u001B[49m\u001B[38;5;28;43minput\u001B[39;49m\u001B[43m)\u001B[49m\n\u001B[0;32m    218\u001B[0m     \u001B[38;5;28;01mreturn\u001B[39;00m \u001B[38;5;28minput\u001B[39m\n",
      "File \u001B[1;32m~\\miniconda3\\envs\\sumo\\lib\\site-packages\\torch\\nn\\modules\\module.py:1501\u001B[0m, in \u001B[0;36mModule._call_impl\u001B[1;34m(self, *args, **kwargs)\u001B[0m\n\u001B[0;32m   1496\u001B[0m \u001B[38;5;66;03m# If we don't have any hooks, we want to skip the rest of the logic in\u001B[39;00m\n\u001B[0;32m   1497\u001B[0m \u001B[38;5;66;03m# this function, and just call forward.\u001B[39;00m\n\u001B[0;32m   1498\u001B[0m \u001B[38;5;28;01mif\u001B[39;00m \u001B[38;5;129;01mnot\u001B[39;00m (\u001B[38;5;28mself\u001B[39m\u001B[38;5;241m.\u001B[39m_backward_hooks \u001B[38;5;129;01mor\u001B[39;00m \u001B[38;5;28mself\u001B[39m\u001B[38;5;241m.\u001B[39m_backward_pre_hooks \u001B[38;5;129;01mor\u001B[39;00m \u001B[38;5;28mself\u001B[39m\u001B[38;5;241m.\u001B[39m_forward_hooks \u001B[38;5;129;01mor\u001B[39;00m \u001B[38;5;28mself\u001B[39m\u001B[38;5;241m.\u001B[39m_forward_pre_hooks\n\u001B[0;32m   1499\u001B[0m         \u001B[38;5;129;01mor\u001B[39;00m _global_backward_pre_hooks \u001B[38;5;129;01mor\u001B[39;00m _global_backward_hooks\n\u001B[0;32m   1500\u001B[0m         \u001B[38;5;129;01mor\u001B[39;00m _global_forward_hooks \u001B[38;5;129;01mor\u001B[39;00m _global_forward_pre_hooks):\n\u001B[1;32m-> 1501\u001B[0m     \u001B[38;5;28;01mreturn\u001B[39;00m forward_call(\u001B[38;5;241m*\u001B[39margs, \u001B[38;5;241m*\u001B[39m\u001B[38;5;241m*\u001B[39mkwargs)\n\u001B[0;32m   1502\u001B[0m \u001B[38;5;66;03m# Do not call functions when jit is used\u001B[39;00m\n\u001B[0;32m   1503\u001B[0m full_backward_hooks, non_full_backward_hooks \u001B[38;5;241m=\u001B[39m [], []\n",
      "File \u001B[1;32m~\\miniconda3\\envs\\sumo\\lib\\site-packages\\torch\\nn\\modules\\conv.py:313\u001B[0m, in \u001B[0;36mConv1d.forward\u001B[1;34m(self, input)\u001B[0m\n\u001B[0;32m    312\u001B[0m \u001B[38;5;28;01mdef\u001B[39;00m \u001B[38;5;21mforward\u001B[39m(\u001B[38;5;28mself\u001B[39m, \u001B[38;5;28minput\u001B[39m: Tensor) \u001B[38;5;241m-\u001B[39m\u001B[38;5;241m>\u001B[39m Tensor:\n\u001B[1;32m--> 313\u001B[0m     \u001B[38;5;28;01mreturn\u001B[39;00m \u001B[38;5;28;43mself\u001B[39;49m\u001B[38;5;241;43m.\u001B[39;49m\u001B[43m_conv_forward\u001B[49m\u001B[43m(\u001B[49m\u001B[38;5;28;43minput\u001B[39;49m\u001B[43m,\u001B[49m\u001B[43m \u001B[49m\u001B[38;5;28;43mself\u001B[39;49m\u001B[38;5;241;43m.\u001B[39;49m\u001B[43mweight\u001B[49m\u001B[43m,\u001B[49m\u001B[43m \u001B[49m\u001B[38;5;28;43mself\u001B[39;49m\u001B[38;5;241;43m.\u001B[39;49m\u001B[43mbias\u001B[49m\u001B[43m)\u001B[49m\n",
      "File \u001B[1;32m~\\miniconda3\\envs\\sumo\\lib\\site-packages\\torch\\nn\\modules\\conv.py:309\u001B[0m, in \u001B[0;36mConv1d._conv_forward\u001B[1;34m(self, input, weight, bias)\u001B[0m\n\u001B[0;32m    305\u001B[0m \u001B[38;5;28;01mif\u001B[39;00m \u001B[38;5;28mself\u001B[39m\u001B[38;5;241m.\u001B[39mpadding_mode \u001B[38;5;241m!=\u001B[39m \u001B[38;5;124m'\u001B[39m\u001B[38;5;124mzeros\u001B[39m\u001B[38;5;124m'\u001B[39m:\n\u001B[0;32m    306\u001B[0m     \u001B[38;5;28;01mreturn\u001B[39;00m F\u001B[38;5;241m.\u001B[39mconv1d(F\u001B[38;5;241m.\u001B[39mpad(\u001B[38;5;28minput\u001B[39m, \u001B[38;5;28mself\u001B[39m\u001B[38;5;241m.\u001B[39m_reversed_padding_repeated_twice, mode\u001B[38;5;241m=\u001B[39m\u001B[38;5;28mself\u001B[39m\u001B[38;5;241m.\u001B[39mpadding_mode),\n\u001B[0;32m    307\u001B[0m                     weight, bias, \u001B[38;5;28mself\u001B[39m\u001B[38;5;241m.\u001B[39mstride,\n\u001B[0;32m    308\u001B[0m                     _single(\u001B[38;5;241m0\u001B[39m), \u001B[38;5;28mself\u001B[39m\u001B[38;5;241m.\u001B[39mdilation, \u001B[38;5;28mself\u001B[39m\u001B[38;5;241m.\u001B[39mgroups)\n\u001B[1;32m--> 309\u001B[0m \u001B[38;5;28;01mreturn\u001B[39;00m \u001B[43mF\u001B[49m\u001B[38;5;241;43m.\u001B[39;49m\u001B[43mconv1d\u001B[49m\u001B[43m(\u001B[49m\u001B[38;5;28;43minput\u001B[39;49m\u001B[43m,\u001B[49m\u001B[43m \u001B[49m\u001B[43mweight\u001B[49m\u001B[43m,\u001B[49m\u001B[43m \u001B[49m\u001B[43mbias\u001B[49m\u001B[43m,\u001B[49m\u001B[43m \u001B[49m\u001B[38;5;28;43mself\u001B[39;49m\u001B[38;5;241;43m.\u001B[39;49m\u001B[43mstride\u001B[49m\u001B[43m,\u001B[49m\n\u001B[0;32m    310\u001B[0m \u001B[43m                \u001B[49m\u001B[38;5;28;43mself\u001B[39;49m\u001B[38;5;241;43m.\u001B[39;49m\u001B[43mpadding\u001B[49m\u001B[43m,\u001B[49m\u001B[43m \u001B[49m\u001B[38;5;28;43mself\u001B[39;49m\u001B[38;5;241;43m.\u001B[39;49m\u001B[43mdilation\u001B[49m\u001B[43m,\u001B[49m\u001B[43m \u001B[49m\u001B[38;5;28;43mself\u001B[39;49m\u001B[38;5;241;43m.\u001B[39;49m\u001B[43mgroups\u001B[49m\u001B[43m)\u001B[49m\n",
      "\u001B[1;31mKeyboardInterrupt\u001B[0m: "
     ]
    }
   ],
   "source": [
    "from torch.optim import Adam\n",
    "\n",
    "adam_optimizer = Adam(pong_model.parameters(), lr=0.0005)\n",
    "\n",
    "for i in range(39):\n",
    "    train(pong_model, PongDataset(index=i), pong_dataset_valid, nn.MSELoss(), adam_optimizer, epoch=1)"
   ],
   "metadata": {
    "collapsed": false,
    "ExecuteTime": {
     "end_time": "2023-08-26T11:02:03.924366100Z",
     "start_time": "2023-08-26T10:55:46.674776600Z"
    }
   }
  },
  {
   "cell_type": "code",
   "execution_count": 12,
   "outputs": [
    {
     "name": "stdout",
     "output_type": "stream",
     "text": [
      "\n",
      "Train Loss: 0.14119381422490032 | Test Loss: 0.14254177743390603\n",
      "Train Accuracy: 0.7984579799537393 | Test Accuracy: 0.7956931565637213\n",
      "Train Precision: 0.7402172295789317 | Test Precision: 0.7311191335740073\n",
      "Train Recall: 0.8514461749101488 | Test Recall: 0.8629623316856997\n"
     ]
    }
   ],
   "source": [
    "evaluate(pong_model, PongDataset(), pong_dataset_valid, nn.MSELoss())"
   ],
   "metadata": {
    "collapsed": false,
    "ExecuteTime": {
     "end_time": "2023-08-26T10:17:22.138589500Z",
     "start_time": "2023-08-26T10:17:14.924995100Z"
    }
   }
  },
  {
   "cell_type": "code",
   "execution_count": 13,
   "outputs": [],
   "source": [
    "torch.save(pong_model.state_dict(), \"weights/pong_model_0.795a.pt\")"
   ],
   "metadata": {
    "collapsed": false,
    "ExecuteTime": {
     "end_time": "2023-08-26T10:21:29.557447500Z",
     "start_time": "2023-08-26T10:21:29.540560800Z"
    }
   }
  }
 ],
 "metadata": {
  "kernelspec": {
   "display_name": "Python 3",
   "language": "python",
   "name": "python3"
  },
  "language_info": {
   "codemirror_mode": {
    "name": "ipython",
    "version": 2
   },
   "file_extension": ".py",
   "mimetype": "text/x-python",
   "name": "python",
   "nbconvert_exporter": "python",
   "pygments_lexer": "ipython2",
   "version": "2.7.6"
  }
 },
 "nbformat": 4,
 "nbformat_minor": 0
}
